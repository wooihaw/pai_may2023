{
 "cells": [
  {
   "cell_type": "markdown",
   "metadata": {},
   "source": [
    "# Table of Contents\n",
    "* [Linear Regression](#linear-regression)\n",
    "* [kNN Regression](#knn-regression)\n",
    "* [Logistic Regression](#logistic-regression)\n",
    "* [kNN Classification](#knn-classification)\n",
    "* [Decision Tree Classification](#decision-tree-classification)\n",
    "* [Decision Tree Classification with Pruning](#decision-tree-classification-pruning)\n",
    "* [Grid Search](#grid-search)\n",
    "* [k-means Clustering](#k-means-clustering)\n",
    "* [Dimensionality Reduction](#dimensionality-reduction)\n",
    "* [Save and Load Model](#save-load-model)"
   ]
  },
  {
   "cell_type": "code",
   "execution_count": 1,
   "metadata": {},
   "outputs": [],
   "source": [
    "# Initialization\n",
    "%matplotlib inline\n",
    "from warnings import filterwarnings\n",
    "filterwarnings('ignore')"
   ]
  },
  {
   "cell_type": "markdown",
   "metadata": {},
   "source": [
    "## Linear Regression <a class=\"anchor\" id=\"linear-regression\"></a>"
   ]
  },
  {
   "cell_type": "code",
   "execution_count": 2,
   "metadata": {},
   "outputs": [
    {
     "ename": "ImportError",
     "evalue": "\n`load_boston` has been removed from scikit-learn since version 1.2.\n\nThe Boston housing prices dataset has an ethical problem: as\ninvestigated in [1], the authors of this dataset engineered a\nnon-invertible variable \"B\" assuming that racial self-segregation had a\npositive impact on house prices [2]. Furthermore the goal of the\nresearch that led to the creation of this dataset was to study the\nimpact of air quality but it did not give adequate demonstration of the\nvalidity of this assumption.\n\nThe scikit-learn maintainers therefore strongly discourage the use of\nthis dataset unless the purpose of the code is to study and educate\nabout ethical issues in data science and machine learning.\n\nIn this special case, you can fetch the dataset from the original\nsource::\n\n    import pandas as pd\n    import numpy as np\n\n    data_url = \"http://lib.stat.cmu.edu/datasets/boston\"\n    raw_df = pd.read_csv(data_url, sep=\"\\s+\", skiprows=22, header=None)\n    data = np.hstack([raw_df.values[::2, :], raw_df.values[1::2, :2]])\n    target = raw_df.values[1::2, 2]\n\nAlternative datasets include the California housing dataset and the\nAmes housing dataset. You can load the datasets as follows::\n\n    from sklearn.datasets import fetch_california_housing\n    housing = fetch_california_housing()\n\nfor the California housing dataset and::\n\n    from sklearn.datasets import fetch_openml\n    housing = fetch_openml(name=\"house_prices\", as_frame=True)\n\nfor the Ames housing dataset.\n\n[1] M Carlisle.\n\"Racist data destruction?\"\n<https://medium.com/@docintangible/racist-data-destruction-113e3eff54a8>\n\n[2] Harrison Jr, David, and Daniel L. Rubinfeld.\n\"Hedonic housing prices and the demand for clean air.\"\nJournal of environmental economics and management 5.1 (1978): 81-102.\n<https://www.researchgate.net/publication/4974606_Hedonic_housing_prices_and_the_demand_for_clean_air>\n",
     "output_type": "error",
     "traceback": [
      "\u001b[1;31m---------------------------------------------------------------------------\u001b[0m",
      "\u001b[1;31mImportError\u001b[0m                               Traceback (most recent call last)",
      "Cell \u001b[1;32mIn[2], line 2\u001b[0m\n\u001b[0;32m      1\u001b[0m \u001b[38;5;66;03m# Linear Regression\u001b[39;00m\n\u001b[1;32m----> 2\u001b[0m \u001b[38;5;28;01mfrom\u001b[39;00m \u001b[38;5;21;01msklearn\u001b[39;00m\u001b[38;5;21;01m.\u001b[39;00m\u001b[38;5;21;01mdatasets\u001b[39;00m \u001b[38;5;28;01mimport\u001b[39;00m load_boston\n\u001b[0;32m      3\u001b[0m \u001b[38;5;28;01mfrom\u001b[39;00m \u001b[38;5;21;01msklearn\u001b[39;00m\u001b[38;5;21;01m.\u001b[39;00m\u001b[38;5;21;01mmodel_selection\u001b[39;00m \u001b[38;5;28;01mimport\u001b[39;00m train_test_split \u001b[38;5;28;01mas\u001b[39;00m split\n\u001b[0;32m      4\u001b[0m \u001b[38;5;28;01mfrom\u001b[39;00m \u001b[38;5;21;01msklearn\u001b[39;00m\u001b[38;5;21;01m.\u001b[39;00m\u001b[38;5;21;01mlinear_model\u001b[39;00m \u001b[38;5;28;01mimport\u001b[39;00m LinearRegression\n",
      "File \u001b[1;32m~\\Anaconda3\\envs\\anaconda202303\\lib\\site-packages\\sklearn\\datasets\\__init__.py:156\u001b[0m, in \u001b[0;36m__getattr__\u001b[1;34m(name)\u001b[0m\n\u001b[0;32m    105\u001b[0m \u001b[38;5;28;01mif\u001b[39;00m name \u001b[38;5;241m==\u001b[39m \u001b[38;5;124m\"\u001b[39m\u001b[38;5;124mload_boston\u001b[39m\u001b[38;5;124m\"\u001b[39m:\n\u001b[0;32m    106\u001b[0m     msg \u001b[38;5;241m=\u001b[39m textwrap\u001b[38;5;241m.\u001b[39mdedent(\n\u001b[0;32m    107\u001b[0m         \u001b[38;5;124;03m\"\"\"\u001b[39;00m\n\u001b[0;32m    108\u001b[0m \u001b[38;5;124;03m        `load_boston` has been removed from scikit-learn since version 1.2.\u001b[39;00m\n\u001b[1;32m   (...)\u001b[0m\n\u001b[0;32m    154\u001b[0m \u001b[38;5;124;03m        \"\"\"\u001b[39;00m\n\u001b[0;32m    155\u001b[0m     )\n\u001b[1;32m--> 156\u001b[0m     \u001b[38;5;28;01mraise\u001b[39;00m \u001b[38;5;167;01mImportError\u001b[39;00m(msg)\n\u001b[0;32m    157\u001b[0m \u001b[38;5;28;01mtry\u001b[39;00m:\n\u001b[0;32m    158\u001b[0m     \u001b[38;5;28;01mreturn\u001b[39;00m \u001b[38;5;28mglobals\u001b[39m()[name]\n",
      "\u001b[1;31mImportError\u001b[0m: \n`load_boston` has been removed from scikit-learn since version 1.2.\n\nThe Boston housing prices dataset has an ethical problem: as\ninvestigated in [1], the authors of this dataset engineered a\nnon-invertible variable \"B\" assuming that racial self-segregation had a\npositive impact on house prices [2]. Furthermore the goal of the\nresearch that led to the creation of this dataset was to study the\nimpact of air quality but it did not give adequate demonstration of the\nvalidity of this assumption.\n\nThe scikit-learn maintainers therefore strongly discourage the use of\nthis dataset unless the purpose of the code is to study and educate\nabout ethical issues in data science and machine learning.\n\nIn this special case, you can fetch the dataset from the original\nsource::\n\n    import pandas as pd\n    import numpy as np\n\n    data_url = \"http://lib.stat.cmu.edu/datasets/boston\"\n    raw_df = pd.read_csv(data_url, sep=\"\\s+\", skiprows=22, header=None)\n    data = np.hstack([raw_df.values[::2, :], raw_df.values[1::2, :2]])\n    target = raw_df.values[1::2, 2]\n\nAlternative datasets include the California housing dataset and the\nAmes housing dataset. You can load the datasets as follows::\n\n    from sklearn.datasets import fetch_california_housing\n    housing = fetch_california_housing()\n\nfor the California housing dataset and::\n\n    from sklearn.datasets import fetch_openml\n    housing = fetch_openml(name=\"house_prices\", as_frame=True)\n\nfor the Ames housing dataset.\n\n[1] M Carlisle.\n\"Racist data destruction?\"\n<https://medium.com/@docintangible/racist-data-destruction-113e3eff54a8>\n\n[2] Harrison Jr, David, and Daniel L. Rubinfeld.\n\"Hedonic housing prices and the demand for clean air.\"\nJournal of environmental economics and management 5.1 (1978): 81-102.\n<https://www.researchgate.net/publication/4974606_Hedonic_housing_prices_and_the_demand_for_clean_air>\n"
     ]
    }
   ],
   "source": [
    "# Linear Regression\n",
    "from sklearn.datasets import load_boston\n",
    "from sklearn.model_selection import train_test_split as split\n",
    "from sklearn.linear_model import LinearRegression\n",
    "X, y = load_boston(return_X_y=True)\n",
    "X_train, X_test, y_train, y_test = split(X, y, test_size=0.25, random_state=42)\n",
    "lr = LinearRegression().fit(X_train, y_train)\n",
    "print(f'R2 score: {lr.score(X_test, y_test):.2f}')"
   ]
  },
  {
   "cell_type": "markdown",
   "metadata": {},
   "source": [
    "## kNN Regression <a class=\"anchor\" id=\"knn-regression\"></a>"
   ]
  },
  {
   "cell_type": "code",
   "execution_count": null,
   "metadata": {},
   "outputs": [],
   "source": [
    "# kNN Regression\n",
    "from sklearn.datasets import load_boston\n",
    "from sklearn.model_selection import train_test_split as split\n",
    "from sklearn.neighbors import KNeighborsRegressor\n",
    "X, y = load_boston(return_X_y=True)\n",
    "X_train, X_test, y_train, y_test = split(X, y, test_size=0.25, random_state=42)\n",
    "knn = KNeighborsRegressor().fit(X_train, y_train)\n",
    "print(f'R2 score: {knn.score(X_test, y_test):.2f}')"
   ]
  },
  {
   "cell_type": "markdown",
   "metadata": {},
   "source": [
    "## Logistic Regression <a class=\"anchor\" id=\"logistic-regression\"></a>"
   ]
  },
  {
   "cell_type": "code",
   "execution_count": 3,
   "metadata": {},
   "outputs": [
    {
     "name": "stdout",
     "output_type": "stream",
     "text": [
      "Accuracy: 72.92%\n"
     ]
    }
   ],
   "source": [
    "# Logistic Regression\n",
    "from pandas import read_csv\n",
    "from sklearn.model_selection import train_test_split as split\n",
    "from sklearn.linear_model import LogisticRegression\n",
    "names = ['preg', 'plas', 'pres', 'skin', 'test', 'mass', 'pedi', 'age', 'class']\n",
    "df = read_csv('pima-indians-diabetes.data.csv', names=names)\n",
    "array = df.values\n",
    "X = array[:,:-1]\n",
    "y = array[:,-1]\n",
    "X_train, X_test, y_train, y_test = split(X, y, test_size=0.25, random_state=42)\n",
    "lgr = LogisticRegression().fit(X_train, y_train)\n",
    "print(f'Accuracy: {lgr.score(X_test, y_test):.2%}')"
   ]
  },
  {
   "cell_type": "markdown",
   "metadata": {},
   "source": [
    "## kNN Classification <a class=\"anchor\" id=\"knn-classification\"></a>"
   ]
  },
  {
   "cell_type": "code",
   "execution_count": 4,
   "metadata": {},
   "outputs": [
    {
     "name": "stdout",
     "output_type": "stream",
     "text": [
      "Accuracy: 65.62%\n"
     ]
    }
   ],
   "source": [
    "# kNN Classification\n",
    "from pandas import read_csv\n",
    "from sklearn.model_selection import train_test_split as split\n",
    "from sklearn.neighbors import KNeighborsClassifier\n",
    "names = ['preg', 'plas', 'pres', 'skin', 'test', 'mass', 'pedi', 'age', 'class']\n",
    "df = read_csv('pima-indians-diabetes.data.csv', names=names)\n",
    "array = df.values\n",
    "X = array[:,:-1]\n",
    "y = array[:,-1]\n",
    "X_train, X_test, y_train, y_test = split(X, y, test_size=0.25, random_state=42)\n",
    "knn = KNeighborsClassifier().fit(X_train, y_train)\n",
    "print(f'Accuracy: {knn.score(X_test, y_test):.2%}')"
   ]
  },
  {
   "cell_type": "markdown",
   "metadata": {},
   "source": [
    "## Decision Tree Classification <a class=\"anchor\" id=\"decision-tree-classification\"></a>"
   ]
  },
  {
   "cell_type": "code",
   "execution_count": null,
   "metadata": {},
   "outputs": [],
   "source": [
    "# Decision Tree Classification\n",
    "from pandas import read_csv\n",
    "from sklearn.model_selection import train_test_split as split\n",
    "from sklearn.tree import DecisionTreeClassifier\n",
    "names = ['preg', 'plas', 'pres', 'skin', 'test', 'mass', 'pedi', 'age', 'class']\n",
    "df = read_csv('pima-indians-diabetes.data.csv', names=names)\n",
    "array = df.values\n",
    "X = array[:,:-1]\n",
    "y = array[:,-1]\n",
    "X_train, X_test, y_train, y_test = split(X, y, test_size=0.25, random_state=42)\n",
    "dtc = DecisionTreeClassifier().fit(X_train, y_train)\n",
    "print(f'Train accuracy: {dtc.score(X_train, y_train):.2%}')\n",
    "print(f'Test accuracy: {dtc.score(X_test, y_test):.2%}')"
   ]
  },
  {
   "cell_type": "markdown",
   "metadata": {},
   "source": [
    "## Decision Tree Classification with Pruning<a class=\"anchor\" id=\"decision-tree-classification-pruning\"></a>"
   ]
  },
  {
   "cell_type": "code",
   "execution_count": null,
   "metadata": {},
   "outputs": [],
   "source": [
    "# Decision Tree Classification with pre-pruning\n",
    "from pandas import read_csv\n",
    "from sklearn.model_selection import train_test_split as split\n",
    "from sklearn.tree import DecisionTreeClassifier, plot_tree\n",
    "import matplotlib.pyplot as plt\n",
    "names = ['preg', 'plas', 'pres', 'skin', 'test', 'mass', 'pedi', 'age', 'class']\n",
    "df = read_csv('pima-indians-diabetes.data.csv', names=names)\n",
    "array = df.values\n",
    "X = array[:,:-1]\n",
    "y = array[:,-1]\n",
    "X_train, X_test, y_train, y_test = split(X, y, test_size=0.25, random_state=42)\n",
    "dtc = DecisionTreeClassifier(max_leaf_nodes=10).fit(X_train, y_train)\n",
    "print(f'Train accuracy: {dtc.score(X_train, y_train):.2%}')\n",
    "print(f'Test accuracy: {dtc.score(X_test, y_test):.2%}')\n",
    "\n",
    "plt.figure(figsize=(10, 10))\n",
    "plot_tree(dtc, feature_names=names, class_names=['0', '1'], rounded=True, filled=True)\n",
    "plt.show()"
   ]
  },
  {
   "cell_type": "markdown",
   "metadata": {},
   "source": [
    "## Grid Search <a class=\"anchor\" id=\"grid-search\"></a>"
   ]
  },
  {
   "cell_type": "code",
   "execution_count": null,
   "metadata": {},
   "outputs": [],
   "source": [
    "# Hyperparameter tuning with grid search\n",
    "from pandas import read_csv\n",
    "from sklearn.tree import DecisionTreeClassifier\n",
    "from sklearn.model_selection import GridSearchCV, train_test_split as split, KFold\n",
    "names = ['preg', 'plas', 'pres', 'skin', 'test', 'mass', 'pedi', 'age', 'class']\n",
    "df = read_csv('pima-indians-diabetes.data.csv', names=names)\n",
    "X = df.values[:, :-1]\n",
    "y = df.values[:, -1]\n",
    "X_train, X_test, y_train, y_test = split(X, y, random_state=42)\n",
    "model = DecisionTreeClassifier(random_state=42)\n",
    "model.fit(X_train, y_train)\n",
    "print(f'Accuracy without tuning: {model.score(X_test, y_test):.2%}')\n",
    "\n",
    "kf = KFold(n_splits=5, shuffle=True, random_state=42)\n",
    "params = dict(criterion=['gini', 'entropy'], max_leaf_nodes=range(2, 21))\n",
    "grid = GridSearchCV(model, params, cv=kf, n_jobs=-1, verbose=2)\n",
    "grid.fit(X_train, y_train)\n",
    "print(grid.best_params_)\n",
    "\n",
    "model.set_params(**grid.best_params_).fit(X_train, y_train)\n",
    "print(f'Accuracy with tuning: {model.score(X_test, y_test):.2%}')"
   ]
  },
  {
   "cell_type": "markdown",
   "metadata": {},
   "source": [
    "## k-means Clustering <a class=\"anchor\" id=\"k-means-clustering\"></a>"
   ]
  },
  {
   "cell_type": "code",
   "execution_count": null,
   "metadata": {},
   "outputs": [],
   "source": [
    "# k-means clustering\n",
    "from sklearn.cluster import KMeans\n",
    "from sklearn.datasets import make_blobs\n",
    "import matplotlib.pyplot as plt\n",
    "X, y = make_blobs(centers=3, cluster_std=2, random_state=42)\n",
    "km = KMeans(n_clusters=3).fit(X)\n",
    "fig, (ax1, ax2) = plt.subplots(1, 2, figsize=(8, 4))\n",
    "fig.suptitle('k-means Clustering')\n",
    "ax1.scatter(X[:, 0], X[:, 1])\n",
    "ax1.set_title('Before clustering')\n",
    "ax2.scatter(X[:, 0], X[:, 1], c=km.labels_)\n",
    "ax2.set_title('After clustering')\n",
    "plt.show()"
   ]
  },
  {
   "cell_type": "markdown",
   "metadata": {},
   "source": [
    "## Dimensionality Reduction <a class=\"anchor\" id=\"dimensionality-reduction\"></a>"
   ]
  },
  {
   "cell_type": "code",
   "execution_count": null,
   "metadata": {},
   "outputs": [],
   "source": [
    "# Dimensionality Reduction with PCA\n",
    "from pandas import read_csv\n",
    "from sklearn.decomposition import PCA\n",
    "from sklearn.neighbors import KNeighborsClassifier\n",
    "from sklearn.model_selection import train_test_split as split\n",
    "names = ['preg', 'plas', 'pres', 'skin', 'test', 'mass', 'pedi', 'age', 'class']\n",
    "df = read_csv('pima-indians-diabetes.data.csv', names=names)\n",
    "X = df.values[:, :-1]\n",
    "y = df.values[:, -1]\n",
    "X_train, X_test, y_train, y_test = split(X, y, random_state=42)\n",
    "pca = PCA(n_components=3)\n",
    "Xr_train = pca.fit_transform(X_train)\n",
    "Xr_test = pca.transform(X_test)\n",
    "knn1 = KNeighborsClassifier().fit(X_train, y_train)\n",
    "knn2 = KNeighborsClassifier().fit(Xr_train, y_train)\n",
    "# Evaluate performance\n",
    "print(f\"knn1 score: {knn1.score(X_test, y_test):.3%}\")\n",
    "print(f\"knn2 score: {knn2.score(Xr_test, y_test):.3%}\")"
   ]
  },
  {
   "cell_type": "markdown",
   "metadata": {},
   "source": [
    "## Save and Load Model <a class=\"anchor\" id=\"save-load-model\"></a>"
   ]
  },
  {
   "cell_type": "code",
   "execution_count": null,
   "metadata": {},
   "outputs": [],
   "source": [
    "# Save and load model\n",
    "from sklearn.neighbors import KNeighborsClassifier\n",
    "from sklearn.model_selection import train_test_split as split\n",
    "from pandas import read_csv\n",
    "from joblib import dump, load\n",
    "\n",
    "names = ['preg', 'plas', 'pres', 'skin', 'test', 'mass', 'pedi', 'age', 'class']\n",
    "df = read_csv('pima-indians-diabetes.data.csv', names=names)\n",
    "array = df.values\n",
    "X = array[:, :-1]\n",
    "y = array[:, -1]\n",
    "X_train, X_test, y_train, y_test = split(X, y, test_size=0.3, random_state=42)\n",
    "\n",
    "model = KNeighborsClassifier(n_neighbors=3).fit(X_train, y_train)\n",
    "print(f'model accuracy: {model.score(X_test, y_test):.2%}')\n",
    "\n",
    "dump(model, 'mymodel.job')  # serialize model to file\n",
    "my_model = load('mymodel.job') # deserialize model from file\n",
    "print(f'my_model accuracy: {my_model.score(X_test, y_test):.2%}')"
   ]
  }
 ],
 "metadata": {
  "kernelspec": {
   "display_name": "Python 3 (ipykernel)",
   "language": "python",
   "name": "python3"
  },
  "language_info": {
   "codemirror_mode": {
    "name": "ipython",
    "version": 3
   },
   "file_extension": ".py",
   "mimetype": "text/x-python",
   "name": "python",
   "nbconvert_exporter": "python",
   "pygments_lexer": "ipython3",
   "version": "3.10.9"
  }
 },
 "nbformat": 4,
 "nbformat_minor": 2
}
