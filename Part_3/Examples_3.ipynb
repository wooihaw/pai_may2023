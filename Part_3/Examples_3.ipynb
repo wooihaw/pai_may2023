{
 "cells": [
  {
   "cell_type": "markdown",
   "metadata": {},
   "source": [
    "# Table of Contents\n",
    "* [Linear Regression](#linear-regression)\n",
    "* [kNN Regression](#knn-regression)\n",
    "* [Logistic Regression](#logistic-regression)\n",
    "* [kNN Classification](#knn-classification)\n",
    "* [Decision Tree Classification](#decision-tree-classification)\n",
    "* [Decision Tree Classification with Pruning](#decision-tree-classification-pruning)\n",
    "* [Grid Search](#grid-search)\n",
    "* [k-means Clustering](#k-means-clustering)\n",
    "* [Dimensionality Reduction](#dimensionality-reduction)\n",
    "* [Save and Load Model](#save-load-model)"
   ]
  },
  {
   "cell_type": "code",
   "execution_count": null,
   "metadata": {},
   "outputs": [],
   "source": [
    "# Initialization\n",
    "%matplotlib inline\n",
    "from warnings import filterwarnings\n",
    "filterwarnings('ignore')"
   ]
  },
  {
   "cell_type": "markdown",
   "metadata": {},
   "source": [
    "## Linear Regression <a class=\"anchor\" id=\"linear-regression\"></a>"
   ]
  },
  {
   "cell_type": "code",
   "execution_count": null,
   "metadata": {},
   "outputs": [],
   "source": [
    "# Linear Regression\n",
    "from sklearn.datasets import load_boston\n",
    "from sklearn.model_selection import train_test_split as split\n",
    "from sklearn.linear_model import LinearRegression\n",
    "X, y = load_boston(return_X_y=True)\n",
    "X_train, X_test, y_train, y_test = split(X, y, test_size=0.25, random_state=42)\n",
    "lr = LinearRegression().fit(X_train, y_train)\n",
    "print(f'R2 score: {lr.score(X_test, y_test):.2f}')"
   ]
  },
  {
   "cell_type": "markdown",
   "metadata": {},
   "source": [
    "## kNN Regression <a class=\"anchor\" id=\"knn-regression\"></a>"
   ]
  },
  {
   "cell_type": "code",
   "execution_count": null,
   "metadata": {},
   "outputs": [],
   "source": [
    "# kNN Regression\n",
    "from sklearn.datasets import load_boston\n",
    "from sklearn.model_selection import train_test_split as split\n",
    "from sklearn.neighbors import KNeighborsRegressor\n",
    "X, y = load_boston(return_X_y=True)\n",
    "X_train, X_test, y_train, y_test = split(X, y, test_size=0.25, random_state=42)\n",
    "knn = KNeighborsRegressor().fit(X_train, y_train)\n",
    "print(f'R2 score: {knn.score(X_test, y_test):.2f}')"
   ]
  },
  {
   "cell_type": "markdown",
   "metadata": {},
   "source": [
    "## Logistic Regression <a class=\"anchor\" id=\"logistic-regression\"></a>"
   ]
  },
  {
   "cell_type": "code",
   "execution_count": null,
   "metadata": {},
   "outputs": [],
   "source": [
    "# Logistic Regression\n",
    "from pandas import read_csv\n",
    "from sklearn.model_selection import train_test_split as split\n",
    "from sklearn.linear_model import LogisticRegression\n",
    "names = ['preg', 'plas', 'pres', 'skin', 'test', 'mass', 'pedi', 'age', 'class']\n",
    "df = read_csv('pima-indians-diabetes.data.csv', names=names)\n",
    "array = df.values\n",
    "X = array[:,:-1]\n",
    "y = array[:,-1]\n",
    "X_train, X_test, y_train, y_test = split(X, y, test_size=0.25, random_state=42)\n",
    "lgr = LogisticRegression().fit(X_train, y_train)\n",
    "print(f'Accuracy: {lgr.score(X_test, y_test):.2%}')"
   ]
  },
  {
   "cell_type": "markdown",
   "metadata": {},
   "source": [
    "## kNN Classification <a class=\"anchor\" id=\"knn-classification\"></a>"
   ]
  },
  {
   "cell_type": "code",
   "execution_count": null,
   "metadata": {},
   "outputs": [],
   "source": [
    "# kNN Classification\n",
    "from pandas import read_csv\n",
    "from sklearn.model_selection import train_test_split as split\n",
    "from sklearn.neighbors import KNeighborsClassifier\n",
    "names = ['preg', 'plas', 'pres', 'skin', 'test', 'mass', 'pedi', 'age', 'class']\n",
    "df = read_csv('pima-indians-diabetes.data.csv', names=names)\n",
    "array = df.values\n",
    "X = array[:,:-1]\n",
    "y = array[:,-1]\n",
    "X_train, X_test, y_train, y_test = split(X, y, test_size=0.25, random_state=42)\n",
    "knn = KNeighborsClassifier().fit(X_train, y_train)\n",
    "print(f'Accuracy: {knn.score(X_test, y_test):.2%}')"
   ]
  },
  {
   "cell_type": "markdown",
   "metadata": {},
   "source": [
    "## Decision Tree Classification <a class=\"anchor\" id=\"decision-tree-classification\"></a>"
   ]
  },
  {
   "cell_type": "code",
   "execution_count": null,
   "metadata": {},
   "outputs": [],
   "source": [
    "# Decision Tree Classification\n",
    "from pandas import read_csv\n",
    "from sklearn.model_selection import train_test_split as split\n",
    "from sklearn.tree import DecisionTreeClassifier\n",
    "names = ['preg', 'plas', 'pres', 'skin', 'test', 'mass', 'pedi', 'age', 'class']\n",
    "df = read_csv('pima-indians-diabetes.data.csv', names=names)\n",
    "array = df.values\n",
    "X = array[:,:-1]\n",
    "y = array[:,-1]\n",
    "X_train, X_test, y_train, y_test = split(X, y, test_size=0.25, random_state=42)\n",
    "dtc = DecisionTreeClassifier().fit(X_train, y_train)\n",
    "print(f'Train accuracy: {dtc.score(X_train, y_train):.2%}')\n",
    "print(f'Test accuracy: {dtc.score(X_test, y_test):.2%}')"
   ]
  },
  {
   "cell_type": "markdown",
   "metadata": {},
   "source": [
    "## Decision Tree Classification with Pruning<a class=\"anchor\" id=\"decision-tree-classification-pruning\"></a>"
   ]
  },
  {
   "cell_type": "code",
   "execution_count": null,
   "metadata": {},
   "outputs": [],
   "source": [
    "# Decision Tree Classification with pre-pruning\n",
    "from pandas import read_csv\n",
    "from sklearn.model_selection import train_test_split as split\n",
    "from sklearn.tree import DecisionTreeClassifier, plot_tree\n",
    "import matplotlib.pyplot as plt\n",
    "names = ['preg', 'plas', 'pres', 'skin', 'test', 'mass', 'pedi', 'age', 'class']\n",
    "df = read_csv('pima-indians-diabetes.data.csv', names=names)\n",
    "array = df.values\n",
    "X = array[:,:-1]\n",
    "y = array[:,-1]\n",
    "X_train, X_test, y_train, y_test = split(X, y, test_size=0.25, random_state=42)\n",
    "dtc = DecisionTreeClassifier(max_leaf_nodes=10).fit(X_train, y_train)\n",
    "print(f'Train accuracy: {dtc.score(X_train, y_train):.2%}')\n",
    "print(f'Test accuracy: {dtc.score(X_test, y_test):.2%}')\n",
    "\n",
    "plt.figure(figsize=(10, 10))\n",
    "plot_tree(dtc, feature_names=names, class_names=['0', '1'], rounded=True, filled=True)\n",
    "plt.show()"
   ]
  },
  {
   "cell_type": "markdown",
   "metadata": {},
   "source": [
    "## Grid Search <a class=\"anchor\" id=\"grid-search\"></a>"
   ]
  },
  {
   "cell_type": "code",
   "execution_count": null,
   "metadata": {},
   "outputs": [],
   "source": [
    "# Hyperparameter tuning with grid search\n",
    "from pandas import read_csv\n",
    "from sklearn.tree import DecisionTreeClassifier\n",
    "from sklearn.model_selection import GridSearchCV, train_test_split as split, KFold\n",
    "names = ['preg', 'plas', 'pres', 'skin', 'test', 'mass', 'pedi', 'age', 'class']\n",
    "df = read_csv('pima-indians-diabetes.data.csv', names=names)\n",
    "X = df.values[:, :-1]\n",
    "y = df.values[:, -1]\n",
    "X_train, X_test, y_train, y_test = split(X, y, random_state=42)\n",
    "model = DecisionTreeClassifier(random_state=42)\n",
    "model.fit(X_train, y_train)\n",
    "print(f'Accuracy without tuning: {model.score(X_test, y_test):.2%}')\n",
    "\n",
    "kf = KFold(n_splits=5, shuffle=True, random_state=42)\n",
    "params = dict(criterion=['gini', 'entropy'], max_leaf_nodes=range(2, 21))\n",
    "grid = GridSearchCV(model, params, cv=kf, n_jobs=-1, verbose=2)\n",
    "grid.fit(X_train, y_train)\n",
    "print(grid.best_params_)\n",
    "\n",
    "model.set_params(**grid.best_params_).fit(X_train, y_train)\n",
    "print(f'Accuracy with tuning: {model.score(X_test, y_test):.2%}')"
   ]
  },
  {
   "cell_type": "markdown",
   "metadata": {},
   "source": [
    "## k-means Clustering <a class=\"anchor\" id=\"k-means-clustering\"></a>"
   ]
  },
  {
   "cell_type": "code",
   "execution_count": null,
   "metadata": {},
   "outputs": [],
   "source": [
    "# k-means clustering\n",
    "from sklearn.cluster import KMeans\n",
    "from sklearn.datasets import make_blobs\n",
    "import matplotlib.pyplot as plt\n",
    "X, y = make_blobs(centers=3, cluster_std=2, random_state=42)\n",
    "km = KMeans(n_clusters=3).fit(X)\n",
    "fig, (ax1, ax2) = plt.subplots(1, 2, figsize=(8, 4))\n",
    "fig.suptitle('k-means Clustering')\n",
    "ax1.scatter(X[:, 0], X[:, 1])\n",
    "ax1.set_title('Before clustering')\n",
    "ax2.scatter(X[:, 0], X[:, 1], c=km.labels_)\n",
    "ax2.set_title('After clustering')\n",
    "plt.show()"
   ]
  },
  {
   "cell_type": "markdown",
   "metadata": {},
   "source": [
    "## Dimensionality Reduction <a class=\"anchor\" id=\"dimensionality-reduction\"></a>"
   ]
  },
  {
   "cell_type": "code",
   "execution_count": null,
   "metadata": {},
   "outputs": [],
   "source": [
    "# Dimensionality Reduction with PCA\n",
    "from pandas import read_csv\n",
    "from sklearn.decomposition import PCA\n",
    "from sklearn.neighbors import KNeighborsClassifier\n",
    "from sklearn.model_selection import train_test_split as split\n",
    "names = ['preg', 'plas', 'pres', 'skin', 'test', 'mass', 'pedi', 'age', 'class']\n",
    "df = read_csv('pima-indians-diabetes.data.csv', names=names)\n",
    "X = df.values[:, :-1]\n",
    "y = df.values[:, -1]\n",
    "X_train, X_test, y_train, y_test = split(X, y, random_state=42)\n",
    "pca = PCA(n_components=3)\n",
    "Xr_train = pca.fit_transform(X_train)\n",
    "Xr_test = pca.transform(X_test)\n",
    "knn1 = KNeighborsClassifier().fit(X_train, y_train)\n",
    "knn2 = KNeighborsClassifier().fit(Xr_train, y_train)\n",
    "# Evaluate performance\n",
    "print(f\"knn1 score: {knn1.score(X_test, y_test):.3%}\")\n",
    "print(f\"knn2 score: {knn2.score(Xr_test, y_test):.3%}\")"
   ]
  },
  {
   "cell_type": "markdown",
   "metadata": {},
   "source": [
    "## Save and Load Model <a class=\"anchor\" id=\"save-load-model\"></a>"
   ]
  },
  {
   "cell_type": "code",
   "execution_count": null,
   "metadata": {},
   "outputs": [],
   "source": [
    "# Save and load model\n",
    "from sklearn.neighbors import KNeighborsClassifier\n",
    "from sklearn.model_selection import train_test_split as split\n",
    "from pandas import read_csv\n",
    "from joblib import dump, load\n",
    "\n",
    "names = ['preg', 'plas', 'pres', 'skin', 'test', 'mass', 'pedi', 'age', 'class']\n",
    "df = read_csv('pima-indians-diabetes.data.csv', names=names)\n",
    "array = df.values\n",
    "X = array[:, :-1]\n",
    "y = array[:, -1]\n",
    "X_train, X_test, y_train, y_test = split(X, y, test_size=0.3, random_state=42)\n",
    "\n",
    "model = KNeighborsClassifier(n_neighbors=3).fit(X_train, y_train)\n",
    "print(f'model accuracy: {model.score(X_test, y_test):.2%}')\n",
    "\n",
    "dump(model, 'mymodel.job')  # serialize model to file\n",
    "my_model = load('mymodel.job') # deserialize model from file\n",
    "print(f'my_model accuracy: {my_model.score(X_test, y_test):.2%}')"
   ]
  }
 ],
 "metadata": {
  "kernelspec": {
   "display_name": "Python 3 (ipykernel)",
   "language": "python",
   "name": "python3"
  },
  "language_info": {
   "codemirror_mode": {
    "name": "ipython",
    "version": 3
   },
   "file_extension": ".py",
   "mimetype": "text/x-python",
   "name": "python",
   "nbconvert_exporter": "python",
   "pygments_lexer": "ipython3",
   "version": "3.9.12"
  }
 },
 "nbformat": 4,
 "nbformat_minor": 2
}
