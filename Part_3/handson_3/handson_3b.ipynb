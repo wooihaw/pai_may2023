{
 "cells": [
  {
   "cell_type": "markdown",
   "id": "20551543",
   "metadata": {},
   "source": [
    "## Hands-on 3B\n",
    "\n",
    "#### Build a Decision Tree classifier to predict the survivality of the Titanic passengers based on the data pre-processed in Hands-on 2C."
   ]
  },
  {
   "cell_type": "code",
   "execution_count": 1,
   "id": "4f20619f",
   "metadata": {},
   "outputs": [],
   "source": [
    "# Initialization\n",
    "%matplotlib inline\n",
    "from warnings import filterwarnings\n",
    "filterwarnings('ignore')"
   ]
  },
  {
   "cell_type": "code",
   "execution_count": 2,
   "id": "a589516f",
   "metadata": {},
   "outputs": [],
   "source": [
    "# Import libraries\n",
    "from pandas import read_csv\n",
    "from sklearn.model_selection import train_test_split as split, KFold, GridSearchCV\n",
    "from sklearn.tree import DecisionTreeClassifier"
   ]
  },
  {
   "cell_type": "code",
   "execution_count": 4,
   "id": "8d8dd45c",
   "metadata": {},
   "outputs": [
    {
     "data": {
      "text/html": [
       "<div>\n",
       "<style scoped>\n",
       "    .dataframe tbody tr th:only-of-type {\n",
       "        vertical-align: middle;\n",
       "    }\n",
       "\n",
       "    .dataframe tbody tr th {\n",
       "        vertical-align: top;\n",
       "    }\n",
       "\n",
       "    .dataframe thead th {\n",
       "        text-align: right;\n",
       "    }\n",
       "</style>\n",
       "<table border=\"1\" class=\"dataframe\">\n",
       "  <thead>\n",
       "    <tr style=\"text-align: right;\">\n",
       "      <th></th>\n",
       "      <th>Pclass</th>\n",
       "      <th>Age</th>\n",
       "      <th>SibSp</th>\n",
       "      <th>Parch</th>\n",
       "      <th>Fare</th>\n",
       "      <th>Survived</th>\n",
       "      <th>Gender_female</th>\n",
       "      <th>Gender_male</th>\n",
       "    </tr>\n",
       "  </thead>\n",
       "  <tbody>\n",
       "    <tr>\n",
       "      <th>0</th>\n",
       "      <td>3</td>\n",
       "      <td>22.0</td>\n",
       "      <td>1</td>\n",
       "      <td>0</td>\n",
       "      <td>7.2500</td>\n",
       "      <td>0</td>\n",
       "      <td>0</td>\n",
       "      <td>1</td>\n",
       "    </tr>\n",
       "    <tr>\n",
       "      <th>1</th>\n",
       "      <td>1</td>\n",
       "      <td>38.0</td>\n",
       "      <td>1</td>\n",
       "      <td>0</td>\n",
       "      <td>71.2833</td>\n",
       "      <td>1</td>\n",
       "      <td>1</td>\n",
       "      <td>0</td>\n",
       "    </tr>\n",
       "    <tr>\n",
       "      <th>2</th>\n",
       "      <td>3</td>\n",
       "      <td>26.0</td>\n",
       "      <td>0</td>\n",
       "      <td>0</td>\n",
       "      <td>7.9250</td>\n",
       "      <td>1</td>\n",
       "      <td>1</td>\n",
       "      <td>0</td>\n",
       "    </tr>\n",
       "    <tr>\n",
       "      <th>3</th>\n",
       "      <td>1</td>\n",
       "      <td>35.0</td>\n",
       "      <td>1</td>\n",
       "      <td>0</td>\n",
       "      <td>53.1000</td>\n",
       "      <td>1</td>\n",
       "      <td>1</td>\n",
       "      <td>0</td>\n",
       "    </tr>\n",
       "    <tr>\n",
       "      <th>4</th>\n",
       "      <td>3</td>\n",
       "      <td>35.0</td>\n",
       "      <td>0</td>\n",
       "      <td>0</td>\n",
       "      <td>8.0500</td>\n",
       "      <td>0</td>\n",
       "      <td>0</td>\n",
       "      <td>1</td>\n",
       "    </tr>\n",
       "  </tbody>\n",
       "</table>\n",
       "</div>"
      ],
      "text/plain": [
       "   Pclass   Age  SibSp  Parch     Fare  Survived  Gender_female  Gender_male\n",
       "0       3  22.0      1      0   7.2500         0              0            1\n",
       "1       1  38.0      1      0  71.2833         1              1            0\n",
       "2       3  26.0      0      0   7.9250         1              1            0\n",
       "3       1  35.0      1      0  53.1000         1              1            0\n",
       "4       3  35.0      0      0   8.0500         0              0            1"
      ]
     },
     "execution_count": 4,
     "metadata": {},
     "output_type": "execute_result"
    }
   ],
   "source": [
    "# Read data from csv file\n",
    "df = read_csv(\"titanic_processed.csv\")\n",
    "df.head()"
   ]
  },
  {
   "cell_type": "markdown",
   "id": "29fc4ef4",
   "metadata": {},
   "source": [
    "To do: \n",
    "- Store the features as variable X and targets as variable y\n",
    "- Split the features and targets into training and testing sets"
   ]
  },
  {
   "cell_type": "code",
   "execution_count": null,
   "id": "ff8c33fb",
   "metadata": {},
   "outputs": [],
   "source": [
    "y = df['Survived'].values\n",
    "del df['Survived']\n",
    "X = df.values\n",
    "X_train, X_test, y_train, y_test = split(X, y, random_state=42)"
   ]
  },
  {
   "cell_type": "markdown",
   "id": "a3ffac52",
   "metadata": {},
   "source": [
    "To do:\n",
    "- Evaluate the performance of decision tree classifier on this dataset (using the default hyperparameter values)"
   ]
  },
  {
   "cell_type": "code",
   "execution_count": null,
   "id": "76c5a1ce",
   "metadata": {},
   "outputs": [],
   "source": [
    "dtc1 = DecisionTreeClassifier(random_state=42).fit(X_train, y_train)\n",
    "print(f\"\")"
   ]
  },
  {
   "cell_type": "markdown",
   "id": "1b29ef43",
   "metadata": {},
   "source": [
    "To do: \n",
    "- Use grid search to fine tune the following hyperparameters\n",
    "    * criterion ('gini' or 'entropy')\n",
    "    * max_leaf_nodes (from 2 to 20)"
   ]
  },
  {
   "cell_type": "code",
   "execution_count": null,
   "id": "94b37bb3",
   "metadata": {},
   "outputs": [],
   "source": []
  },
  {
   "cell_type": "markdown",
   "id": "5efde92b",
   "metadata": {},
   "source": [
    "To do:\n",
    "- Train a decision tree classifier with the best set of hyperparameter values\n",
    "- Evaluate the performance of the resulting classifier"
   ]
  },
  {
   "cell_type": "code",
   "execution_count": null,
   "id": "6a361678",
   "metadata": {},
   "outputs": [],
   "source": []
  }
 ],
 "metadata": {
  "kernelspec": {
   "display_name": "Python 3 (ipykernel)",
   "language": "python",
   "name": "python3"
  },
  "language_info": {
   "codemirror_mode": {
    "name": "ipython",
    "version": 3
   },
   "file_extension": ".py",
   "mimetype": "text/x-python",
   "name": "python",
   "nbconvert_exporter": "python",
   "pygments_lexer": "ipython3",
   "version": "3.10.9"
  }
 },
 "nbformat": 4,
 "nbformat_minor": 5
}
